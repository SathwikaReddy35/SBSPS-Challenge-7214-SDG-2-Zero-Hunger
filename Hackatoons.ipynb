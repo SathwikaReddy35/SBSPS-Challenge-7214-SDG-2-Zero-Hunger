{
  "nbformat": 4,
  "nbformat_minor": 2,
  "metadata": {
    "colab": {
      "name": "Hackatoons.ipynb",
      "provenance": [],
      "collapsed_sections": []
    },
    "kernelspec": {
      "name": "python3",
      "display_name": "Python 3.8.2 64-bit"
    },
    "language_info": {
      "name": "python",
      "version": "3.8.2"
    },
    "interpreter": {
      "hash": "075886a7ee72f3b278ce575ea5cf0b01290e80c9e048892496a453c3b84d55ca"
    }
  },
  "cells": [
    {
      "cell_type": "markdown",
      "source": [
        "# Loading Data"
      ],
      "metadata": {
        "id": "aaNAiXgQfrPb"
      }
    },
    {
      "cell_type": "code",
      "execution_count": null,
      "source": [
        "import numpy as np\r\n",
        "import pandas as pd\r\n",
        "import matplotlib.pyplot as plt\r\n",
        "%matplotlib inline\r\n",
        "import seaborn as sns\r\n",
        "\r\n",
        "import warnings\r\n",
        "warnings.filterwarnings('ignore')"
      ],
      "outputs": [],
      "metadata": {
        "id": "xsn0Piq_x0ms"
      }
    },
    {
      "cell_type": "code",
      "execution_count": null,
      "source": [
        "app_df = pd.read_csv(\"marketyard.csv\")\r\n",
        "app_df.head()\r\n"
      ],
      "outputs": [
        {
          "output_type": "execute_result",
          "data": {
            "text/html": [
              "<div>\n",
              "<style scoped>\n",
              "    .dataframe tbody tr th:only-of-type {\n",
              "        vertical-align: middle;\n",
              "    }\n",
              "\n",
              "    .dataframe tbody tr th {\n",
              "        vertical-align: top;\n",
              "    }\n",
              "\n",
              "    .dataframe thead th {\n",
              "        text-align: right;\n",
              "    }\n",
              "</style>\n",
              "<table border=\"1\" class=\"dataframe\">\n",
              "  <thead>\n",
              "    <tr style=\"text-align: right;\">\n",
              "      <th></th>\n",
              "      <th>AmcCode</th>\n",
              "      <th>AmcName</th>\n",
              "      <th>YardCode</th>\n",
              "      <th>YardName</th>\n",
              "      <th>CommCode</th>\n",
              "      <th>CommName</th>\n",
              "      <th>VarityCode</th>\n",
              "      <th>VarityName</th>\n",
              "      <th>Arrivals</th>\n",
              "      <th>Minimum</th>\n",
              "      <th>Maximum</th>\n",
              "      <th>Model</th>\n",
              "    </tr>\n",
              "  </thead>\n",
              "  <tbody>\n",
              "    <tr>\n",
              "      <th>0</th>\n",
              "      <td>186</td>\n",
              "      <td>Adilabad</td>\n",
              "      <td>10</td>\n",
              "      <td>Adilabad</td>\n",
              "      <td>14</td>\n",
              "      <td>Bengal Gram</td>\n",
              "      <td>14</td>\n",
              "      <td>Common</td>\n",
              "      <td>0.0</td>\n",
              "      <td>0</td>\n",
              "      <td>0</td>\n",
              "      <td>0</td>\n",
              "    </tr>\n",
              "    <tr>\n",
              "      <th>1</th>\n",
              "      <td>186</td>\n",
              "      <td>Adilabad</td>\n",
              "      <td>10</td>\n",
              "      <td>Adilabad</td>\n",
              "      <td>14</td>\n",
              "      <td>Bengal Gram</td>\n",
              "      <td>14</td>\n",
              "      <td>Common</td>\n",
              "      <td>0.0</td>\n",
              "      <td>0</td>\n",
              "      <td>0</td>\n",
              "      <td>0</td>\n",
              "    </tr>\n",
              "    <tr>\n",
              "      <th>2</th>\n",
              "      <td>188</td>\n",
              "      <td>Bhainsa</td>\n",
              "      <td>11</td>\n",
              "      <td>Bhainsa</td>\n",
              "      <td>14</td>\n",
              "      <td>Bengal Gram</td>\n",
              "      <td>14</td>\n",
              "      <td>Common</td>\n",
              "      <td>0.0</td>\n",
              "      <td>0</td>\n",
              "      <td>0</td>\n",
              "      <td>0</td>\n",
              "    </tr>\n",
              "    <tr>\n",
              "      <th>3</th>\n",
              "      <td>193</td>\n",
              "      <td>Inderavally</td>\n",
              "      <td>15</td>\n",
              "      <td>Indravally</td>\n",
              "      <td>14</td>\n",
              "      <td>Bengal Gram</td>\n",
              "      <td>14</td>\n",
              "      <td>Common</td>\n",
              "      <td>0.0</td>\n",
              "      <td>0</td>\n",
              "      <td>0</td>\n",
              "      <td>0</td>\n",
              "    </tr>\n",
              "    <tr>\n",
              "      <th>4</th>\n",
              "      <td>197</td>\n",
              "      <td>Kubeer</td>\n",
              "      <td>29</td>\n",
              "      <td>Kubeer</td>\n",
              "      <td>14</td>\n",
              "      <td>Bengal Gram</td>\n",
              "      <td>14</td>\n",
              "      <td>Common</td>\n",
              "      <td>0.0</td>\n",
              "      <td>0</td>\n",
              "      <td>0</td>\n",
              "      <td>0</td>\n",
              "    </tr>\n",
              "  </tbody>\n",
              "</table>\n",
              "</div>"
            ],
            "text/plain": [
              "   AmcCode      AmcName  YardCode  ... Minimum  Maximum Model\n",
              "0      186     Adilabad        10  ...       0        0     0\n",
              "1      186     Adilabad        10  ...       0        0     0\n",
              "2      188      Bhainsa        11  ...       0        0     0\n",
              "3      193  Inderavally        15  ...       0        0     0\n",
              "4      197       Kubeer        29  ...       0        0     0\n",
              "\n",
              "[5 rows x 12 columns]"
            ]
          },
          "metadata": {},
          "execution_count": 37
        }
      ],
      "metadata": {
        "colab": {
          "base_uri": "https://localhost:8080/",
          "height": 204
        },
        "id": "FflosBxZyB-B",
        "outputId": "b62c9e8a-03fe-4fae-e031-a6e4363726d3"
      }
    },
    {
      "cell_type": "code",
      "execution_count": null,
      "source": [
        "app_df.shape\r\n"
      ],
      "outputs": [
        {
          "output_type": "execute_result",
          "data": {
            "text/plain": [
              "(20837, 12)"
            ]
          },
          "metadata": {},
          "execution_count": 38
        }
      ],
      "metadata": {
        "colab": {
          "base_uri": "https://localhost:8080/"
        },
        "id": "GNEQKGO2yGzv",
        "outputId": "71f6d08c-ddea-427d-d793-88edd1414089"
      }
    },
    {
      "cell_type": "code",
      "execution_count": null,
      "source": [
        "app_df.info()\r\n"
      ],
      "outputs": [
        {
          "output_type": "stream",
          "name": "stdout",
          "text": [
            "<class 'pandas.core.frame.DataFrame'>\n",
            "RangeIndex: 20837 entries, 0 to 20836\n",
            "Data columns (total 12 columns):\n",
            " #   Column      Non-Null Count  Dtype  \n",
            "---  ------      --------------  -----  \n",
            " 0   AmcCode     20837 non-null  int64  \n",
            " 1   AmcName     20837 non-null  object \n",
            " 2   YardCode    20837 non-null  int64  \n",
            " 3   YardName    20837 non-null  object \n",
            " 4   CommCode    20837 non-null  int64  \n",
            " 5   CommName    20837 non-null  object \n",
            " 6   VarityCode  20837 non-null  int64  \n",
            " 7   VarityName  20837 non-null  object \n",
            " 8   Arrivals    20837 non-null  float64\n",
            " 9   Minimum     20837 non-null  int64  \n",
            " 10  Maximum     20837 non-null  int64  \n",
            " 11  Model       20837 non-null  int64  \n",
            "dtypes: float64(1), int64(7), object(4)\n",
            "memory usage: 1.9+ MB\n"
          ]
        }
      ],
      "metadata": {
        "colab": {
          "base_uri": "https://localhost:8080/"
        },
        "id": "ET0MAZQyyIlo",
        "outputId": "51c43f00-bf95-4453-b0ca-242b2a864809"
      }
    },
    {
      "cell_type": "code",
      "execution_count": null,
      "source": [
        "app_df.describe()\r\n"
      ],
      "outputs": [
        {
          "output_type": "execute_result",
          "data": {
            "text/html": [
              "<div>\n",
              "<style scoped>\n",
              "    .dataframe tbody tr th:only-of-type {\n",
              "        vertical-align: middle;\n",
              "    }\n",
              "\n",
              "    .dataframe tbody tr th {\n",
              "        vertical-align: top;\n",
              "    }\n",
              "\n",
              "    .dataframe thead th {\n",
              "        text-align: right;\n",
              "    }\n",
              "</style>\n",
              "<table border=\"1\" class=\"dataframe\">\n",
              "  <thead>\n",
              "    <tr style=\"text-align: right;\">\n",
              "      <th></th>\n",
              "      <th>AmcCode</th>\n",
              "      <th>YardCode</th>\n",
              "      <th>CommCode</th>\n",
              "      <th>VarityCode</th>\n",
              "      <th>Arrivals</th>\n",
              "      <th>Minimum</th>\n",
              "      <th>Maximum</th>\n",
              "      <th>Model</th>\n",
              "    </tr>\n",
              "  </thead>\n",
              "  <tbody>\n",
              "    <tr>\n",
              "      <th>count</th>\n",
              "      <td>20837.00000</td>\n",
              "      <td>20837.000000</td>\n",
              "      <td>20837.000000</td>\n",
              "      <td>20837.000000</td>\n",
              "      <td>20837.000000</td>\n",
              "      <td>20837.000000</td>\n",
              "      <td>20837.000000</td>\n",
              "      <td>20837.000000</td>\n",
              "    </tr>\n",
              "    <tr>\n",
              "      <th>mean</th>\n",
              "      <td>267.51015</td>\n",
              "      <td>985.307770</td>\n",
              "      <td>22.808226</td>\n",
              "      <td>34.951912</td>\n",
              "      <td>149.479445</td>\n",
              "      <td>1398.902289</td>\n",
              "      <td>1794.110956</td>\n",
              "      <td>1659.977492</td>\n",
              "    </tr>\n",
              "    <tr>\n",
              "      <th>std</th>\n",
              "      <td>44.55291</td>\n",
              "      <td>503.652599</td>\n",
              "      <td>9.704631</td>\n",
              "      <td>50.061564</td>\n",
              "      <td>546.119271</td>\n",
              "      <td>1853.094795</td>\n",
              "      <td>2323.669025</td>\n",
              "      <td>2166.758828</td>\n",
              "    </tr>\n",
              "    <tr>\n",
              "      <th>min</th>\n",
              "      <td>186.00000</td>\n",
              "      <td>3.000000</td>\n",
              "      <td>5.000000</td>\n",
              "      <td>5.000000</td>\n",
              "      <td>0.000000</td>\n",
              "      <td>0.000000</td>\n",
              "      <td>0.000000</td>\n",
              "      <td>0.000000</td>\n",
              "    </tr>\n",
              "    <tr>\n",
              "      <th>25%</th>\n",
              "      <td>229.00000</td>\n",
              "      <td>1067.000000</td>\n",
              "      <td>14.000000</td>\n",
              "      <td>14.000000</td>\n",
              "      <td>0.000000</td>\n",
              "      <td>0.000000</td>\n",
              "      <td>0.000000</td>\n",
              "      <td>0.000000</td>\n",
              "    </tr>\n",
              "    <tr>\n",
              "      <th>50%</th>\n",
              "      <td>279.00000</td>\n",
              "      <td>1138.000000</td>\n",
              "      <td>30.000000</td>\n",
              "      <td>30.000000</td>\n",
              "      <td>0.000000</td>\n",
              "      <td>0.000000</td>\n",
              "      <td>0.000000</td>\n",
              "      <td>0.000000</td>\n",
              "    </tr>\n",
              "    <tr>\n",
              "      <th>75%</th>\n",
              "      <td>306.00000</td>\n",
              "      <td>1332.000000</td>\n",
              "      <td>30.000000</td>\n",
              "      <td>30.000000</td>\n",
              "      <td>34.000000</td>\n",
              "      <td>3104.000000</td>\n",
              "      <td>4293.000000</td>\n",
              "      <td>3911.000000</td>\n",
              "    </tr>\n",
              "    <tr>\n",
              "      <th>max</th>\n",
              "      <td>368.00000</td>\n",
              "      <td>1629.000000</td>\n",
              "      <td>30.000000</td>\n",
              "      <td>243.000000</td>\n",
              "      <td>11804.000000</td>\n",
              "      <td>44330.000000</td>\n",
              "      <td>58469.000000</td>\n",
              "      <td>54656.000000</td>\n",
              "    </tr>\n",
              "  </tbody>\n",
              "</table>\n",
              "</div>"
            ],
            "text/plain": [
              "           AmcCode      YardCode  ...       Maximum         Model\n",
              "count  20837.00000  20837.000000  ...  20837.000000  20837.000000\n",
              "mean     267.51015    985.307770  ...   1794.110956   1659.977492\n",
              "std       44.55291    503.652599  ...   2323.669025   2166.758828\n",
              "min      186.00000      3.000000  ...      0.000000      0.000000\n",
              "25%      229.00000   1067.000000  ...      0.000000      0.000000\n",
              "50%      279.00000   1138.000000  ...      0.000000      0.000000\n",
              "75%      306.00000   1332.000000  ...   4293.000000   3911.000000\n",
              "max      368.00000   1629.000000  ...  58469.000000  54656.000000\n",
              "\n",
              "[8 rows x 8 columns]"
            ]
          },
          "metadata": {},
          "execution_count": 40
        }
      ],
      "metadata": {
        "colab": {
          "base_uri": "https://localhost:8080/",
          "height": 297
        },
        "id": "GG7JFosJyPel",
        "outputId": "1a3aad88-b37a-4b93-da5a-889474a0e744"
      }
    },
    {
      "cell_type": "code",
      "execution_count": null,
      "source": [
        "app_df.isnull().sum()\r\n"
      ],
      "outputs": [
        {
          "output_type": "execute_result",
          "data": {
            "text/plain": [
              "AmcCode       0\n",
              "AmcName       0\n",
              "YardCode      0\n",
              "YardName      0\n",
              "CommCode      0\n",
              "CommName      0\n",
              "VarityCode    0\n",
              "VarityName    0\n",
              "Arrivals      0\n",
              "Minimum       0\n",
              "Maximum       0\n",
              "Model         0\n",
              "dtype: int64"
            ]
          },
          "metadata": {},
          "execution_count": 41
        }
      ],
      "metadata": {
        "colab": {
          "base_uri": "https://localhost:8080/"
        },
        "id": "311Ryb_PyT0A",
        "outputId": "905c1e93-b8dc-4737-9d10-3ce1c787374e"
      }
    },
    {
      "cell_type": "markdown",
      "source": [
        "# Exploratory Data Analysis (EDA)\n"
      ],
      "metadata": {
        "id": "K7qDg1q_f4ny"
      }
    },
    {
      "cell_type": "code",
      "execution_count": null,
      "source": [
        "print(app_df)"
      ],
      "outputs": [
        {
          "output_type": "stream",
          "name": "stdout",
          "text": [
            "       AmcCode            AmcName  YardCode  ... Minimum  Maximum Model\n",
            "0          186           Adilabad        10  ...       0        0     0\n",
            "1          186           Adilabad        10  ...       0        0     0\n",
            "2          188            Bhainsa        11  ...       0        0     0\n",
            "3          193        Inderavally        15  ...       0        0     0\n",
            "4          197             Kubeer        29  ...       0        0     0\n",
            "...        ...                ...       ...  ...     ...      ...   ...\n",
            "20832      313  Ibrahimpatnam(RR)        42  ...       0        0     0\n",
            "20833      315            Medchal        43  ...    1700     1700  1700\n",
            "20834      315            Medchal        43  ...       0        0     0\n",
            "20835      322           Chevella        46  ...       0        0     0\n",
            "20836      246           Warangal       886  ...       0        0     0\n",
            "\n",
            "[20837 rows x 12 columns]\n"
          ]
        }
      ],
      "metadata": {
        "id": "HpVYNyL8yBdL",
        "colab": {
          "base_uri": "https://localhost:8080/"
        },
        "outputId": "fe16312e-1cde-4efe-b85b-0e4f751fe841"
      }
    },
    {
      "cell_type": "markdown",
      "source": [
        "# Visualization"
      ],
      "metadata": {
        "id": "_0P3A1-Mf_1X"
      }
    },
    {
      "cell_type": "code",
      "execution_count": null,
      "source": [
        "plt.figure(figsize = (10,10))\n",
        "sns.heatmap(app_df.corr(), annot=True)\n",
        "plt.show()\n"
      ],
      "outputs": [
        {
          "output_type": "display_data",
          "data": {
            "image/png": "[encoded data removed]",
            "text/plain": [
              "<Figure size 720x720 with 2 Axes>"
            ]
          },
          "metadata": {
            "needs_background": "light"
          }
        }
      ],
      "metadata": {
        "colab": {
          "base_uri": "https://localhost:8080/",
          "height": 643
        },
        "id": "5H3AeSon0RmJ",
        "outputId": "4127d362-90c0-4a3d-c5c6-010af42a5c6f"
      }
    },
    {
      "cell_type": "code",
      "execution_count": null,
      "source": [
        "app_df.isnull().sum()\n"
      ],
      "outputs": [
        {
          "output_type": "execute_result",
          "data": {
            "text/plain": [
              "AmcCode       0\n",
              "AmcName       0\n",
              "YardCode      0\n",
              "YardName      0\n",
              "CommCode      0\n",
              "CommName      0\n",
              "VarityCode    0\n",
              "VarityName    0\n",
              "Arrivals      0\n",
              "Minimum       0\n",
              "Maximum       0\n",
              "Model         0\n",
              "dtype: int64"
            ]
          },
          "metadata": {},
          "execution_count": 44
        }
      ],
      "metadata": {
        "colab": {
          "base_uri": "https://localhost:8080/"
        },
        "id": "jwDEXWy-52jO",
        "outputId": "d359d77a-d16d-4864-d2ae-3259f3887264"
      }
    },
    {
      "cell_type": "code",
      "execution_count": null,
      "source": [
        "print((app_df['CommName']=='Bengal Gram').value_counts())"
      ],
      "outputs": [
        {
          "output_type": "stream",
          "name": "stdout",
          "text": [
            "False    15932\n",
            "True      4905\n",
            "Name: CommName, dtype: int64\n"
          ]
        }
      ],
      "metadata": {
        "colab": {
          "base_uri": "https://localhost:8080/"
        },
        "id": "tAWDUeX4MYVb",
        "outputId": "ad9c9c87-8e54-45f6-f084-57058a6423a3"
      }
    },
    {
      "cell_type": "code",
      "execution_count": null,
      "source": [
        "print((app_df['CommName']=='Maize').value_counts())"
      ],
      "outputs": [
        {
          "output_type": "stream",
          "name": "stdout",
          "text": [
            "False    17982\n",
            "True      2855\n",
            "Name: CommName, dtype: int64\n"
          ]
        }
      ],
      "metadata": {
        "colab": {
          "base_uri": "https://localhost:8080/"
        },
        "id": "fFEn1YH8Mp9z",
        "outputId": "ef41cbca-2209-447b-f806-db807e518a42"
      }
    },
    {
      "cell_type": "code",
      "execution_count": null,
      "source": [
        "#This shows Percentage of Crops in our dataset\n",
        "plt.pie(app_df['CommName'].value_counts(), labels=['Bengal Gram', 'Groundnut pods','Maize'], autopct='%1.2f%%')\n",
        "plt.title('% Crops')\n",
        "plt.show()\n"
      ],
      "outputs": [
        {
          "output_type": "display_data",
          "data": {
            "image/png": "[encoded data removed]",
            "text/plain": [
              "<Figure size 432x288 with 1 Axes>"
            ]
          },
          "metadata": {}
        }
      ],
      "metadata": {
        "colab": {
          "base_uri": "https://localhost:8080/",
          "height": 264
        },
        "id": "A2cOLfB66B_l",
        "outputId": "2bccf076-c2d9-4f3c-a9fd-e18638044d39"
      }
    },
    {
      "cell_type": "code",
      "execution_count": null,
      "source": [
        "#This shows Percentage of Crops in our dataset\n",
        "plt.pie(app_df['VarityName'].value_counts(), labels=['Common','Wet','Hybrid New','Hybrid Old'], autopct='%0.5f%%')\n",
        "plt.title('% Crops')\n",
        "plt.show()\n"
      ],
      "outputs": [
        {
          "output_type": "display_data",
          "data": {
            "image/png": "[encoded data removed]",
            "text/plain": [
              "<Figure size 432x288 with 1 Axes>"
            ]
          },
          "metadata": {}
        }
      ],
      "metadata": {
        "colab": {
          "base_uri": "https://localhost:8080/",
          "height": 264
        },
        "id": "BM6zCRHq9RiY",
        "outputId": "864ad390-f11d-4c15-e16c-2bbed587336f"
      }
    },
    {
      "cell_type": "code",
      "execution_count": null,
      "source": [
        "#This shows Percentage of Crops in our dataset\n",
        "plt.pie((app_df['VarityName']=='Bengal Gram').value_counts(), labels=['Common'], autopct='%1.2f%%')\n",
        "plt.title('% Bengal Gram Varities')\n",
        "plt.show()\n"
      ],
      "outputs": [
        {
          "output_type": "display_data",
          "data": {
            "image/png": "[encoded data removed]",
            "text/plain": [
              "<Figure size 432x288 with 1 Axes>"
            ]
          },
          "metadata": {}
        }
      ],
      "metadata": {
        "colab": {
          "base_uri": "https://localhost:8080/",
          "height": 264
        },
        "id": "3eA13tfp8DLk",
        "outputId": "71844da0-a34d-4cb8-de01-dcde311fb189"
      }
    },
    {
      "cell_type": "code",
      "execution_count": null,
      "source": [
        "#This shows Percentage of Crops in our dataset\n",
        "plt.pie((app_df['CommName']=='Groundnut pods').value_counts(), labels=['Common','Wet'], autopct='%1.2f%%')\n",
        "plt.title('%Groundnut pods Varities')\n",
        "plt.show()\n",
        "\n"
      ],
      "outputs": [
        {
          "output_type": "display_data",
          "data": {
            "image/png": "[encoded data removed]",
            "text/plain": [
              "<Figure size 432x288 with 1 Axes>"
            ]
          },
          "metadata": {}
        }
      ],
      "metadata": {
        "colab": {
          "base_uri": "https://localhost:8080/",
          "height": 264
        },
        "id": "nRG125acHzM-",
        "outputId": "6b3126dc-0af2-4615-ddea-d64ce8ba2074"
      }
    },
    {
      "cell_type": "code",
      "execution_count": null,
      "source": [
        "print((app_df['CommName']=='Groundnut pods').value_counts())"
      ],
      "outputs": [
        {
          "output_type": "stream",
          "name": "stdout",
          "text": [
            "True     13077\n",
            "False     7760\n",
            "Name: CommName, dtype: int64\n"
          ]
        }
      ],
      "metadata": {
        "colab": {
          "base_uri": "https://localhost:8080/"
        },
        "id": "TjJFliwBMA5C",
        "outputId": "f48cfaca-bcfe-4d31-a73c-e686e3584910"
      }
    },
    {
      "cell_type": "markdown",
      "source": [
        "# Feature Selection\n"
      ],
      "metadata": {
        "id": "RPo33He_gvW5"
      }
    },
    {
      "cell_type": "code",
      "execution_count": null,
      "source": [
        "from sklearn.preprocessing import LabelEncoder\n",
        "LE = LabelEncoder()\n",
        "for col in app_df:\n",
        "    if app_df[col].dtypes=='object':\n",
        "        app_df[col] = LE.fit_transform(app_df[col].astype(str))\n",
        "app_df.head()"
      ],
      "outputs": [
        {
          "output_type": "execute_result",
          "data": {
            "text/html": [
              "<div>\n",
              "<style scoped>\n",
              "    .dataframe tbody tr th:only-of-type {\n",
              "        vertical-align: middle;\n",
              "    }\n",
              "\n",
              "    .dataframe tbody tr th {\n",
              "        vertical-align: top;\n",
              "    }\n",
              "\n",
              "    .dataframe thead th {\n",
              "        text-align: right;\n",
              "    }\n",
              "</style>\n",
              "<table border=\"1\" class=\"dataframe\">\n",
              "  <thead>\n",
              "    <tr style=\"text-align: right;\">\n",
              "      <th></th>\n",
              "      <th>AmcCode</th>\n",
              "      <th>AmcName</th>\n",
              "      <th>YardCode</th>\n",
              "      <th>YardName</th>\n",
              "      <th>CommCode</th>\n",
              "      <th>CommName</th>\n",
              "      <th>VarityCode</th>\n",
              "      <th>VarityName</th>\n",
              "      <th>Arrivals</th>\n",
              "      <th>Minimum</th>\n",
              "      <th>Maximum</th>\n",
              "      <th>Model</th>\n",
              "    </tr>\n",
              "  </thead>\n",
              "  <tbody>\n",
              "    <tr>\n",
              "      <th>0</th>\n",
              "      <td>186</td>\n",
              "      <td>1</td>\n",
              "      <td>10</td>\n",
              "      <td>1</td>\n",
              "      <td>14</td>\n",
              "      <td>0</td>\n",
              "      <td>14</td>\n",
              "      <td>0</td>\n",
              "      <td>0.0</td>\n",
              "      <td>0</td>\n",
              "      <td>0</td>\n",
              "      <td>0</td>\n",
              "    </tr>\n",
              "    <tr>\n",
              "      <th>1</th>\n",
              "      <td>186</td>\n",
              "      <td>1</td>\n",
              "      <td>10</td>\n",
              "      <td>1</td>\n",
              "      <td>14</td>\n",
              "      <td>0</td>\n",
              "      <td>14</td>\n",
              "      <td>0</td>\n",
              "      <td>0.0</td>\n",
              "      <td>0</td>\n",
              "      <td>0</td>\n",
              "      <td>0</td>\n",
              "    </tr>\n",
              "    <tr>\n",
              "      <th>2</th>\n",
              "      <td>188</td>\n",
              "      <td>6</td>\n",
              "      <td>11</td>\n",
              "      <td>7</td>\n",
              "      <td>14</td>\n",
              "      <td>0</td>\n",
              "      <td>14</td>\n",
              "      <td>0</td>\n",
              "      <td>0.0</td>\n",
              "      <td>0</td>\n",
              "      <td>0</td>\n",
              "      <td>0</td>\n",
              "    </tr>\n",
              "    <tr>\n",
              "      <th>3</th>\n",
              "      <td>193</td>\n",
              "      <td>31</td>\n",
              "      <td>15</td>\n",
              "      <td>34</td>\n",
              "      <td>14</td>\n",
              "      <td>0</td>\n",
              "      <td>14</td>\n",
              "      <td>0</td>\n",
              "      <td>0.0</td>\n",
              "      <td>0</td>\n",
              "      <td>0</td>\n",
              "      <td>0</td>\n",
              "    </tr>\n",
              "    <tr>\n",
              "      <th>4</th>\n",
              "      <td>197</td>\n",
              "      <td>46</td>\n",
              "      <td>29</td>\n",
              "      <td>50</td>\n",
              "      <td>14</td>\n",
              "      <td>0</td>\n",
              "      <td>14</td>\n",
              "      <td>0</td>\n",
              "      <td>0.0</td>\n",
              "      <td>0</td>\n",
              "      <td>0</td>\n",
              "      <td>0</td>\n",
              "    </tr>\n",
              "  </tbody>\n",
              "</table>\n",
              "</div>"
            ],
            "text/plain": [
              "   AmcCode  AmcName  YardCode  YardName  ...  Arrivals  Minimum  Maximum  Model\n",
              "0      186        1        10         1  ...       0.0        0        0      0\n",
              "1      186        1        10         1  ...       0.0        0        0      0\n",
              "2      188        6        11         7  ...       0.0        0        0      0\n",
              "3      193       31        15        34  ...       0.0        0        0      0\n",
              "4      197       46        29        50  ...       0.0        0        0      0\n",
              "\n",
              "[5 rows x 12 columns]"
            ]
          },
          "metadata": {},
          "execution_count": 52
        }
      ],
      "metadata": {
        "id": "OH_LomCEB17t",
        "colab": {
          "base_uri": "https://localhost:8080/",
          "height": 204
        },
        "outputId": "b80f79a3-908b-47fe-a718-348789b1582d"
      }
    },
    {
      "cell_type": "code",
      "execution_count": null,
      "source": [
        "#print(app_df)\n",
        "app_df.corr()\n"
      ],
      "outputs": [
        {
          "output_type": "execute_result",
          "data": {
            "text/html": [
              "<div>\n",
              "<style scoped>\n",
              "    .dataframe tbody tr th:only-of-type {\n",
              "        vertical-align: middle;\n",
              "    }\n",
              "\n",
              "    .dataframe tbody tr th {\n",
              "        vertical-align: top;\n",
              "    }\n",
              "\n",
              "    .dataframe thead th {\n",
              "        text-align: right;\n",
              "    }\n",
              "</style>\n",
              "<table border=\"1\" class=\"dataframe\">\n",
              "  <thead>\n",
              "    <tr style=\"text-align: right;\">\n",
              "      <th></th>\n",
              "      <th>AmcCode</th>\n",
              "      <th>AmcName</th>\n",
              "      <th>YardCode</th>\n",
              "      <th>YardName</th>\n",
              "      <th>CommCode</th>\n",
              "      <th>CommName</th>\n",
              "      <th>VarityCode</th>\n",
              "      <th>VarityName</th>\n",
              "      <th>Arrivals</th>\n",
              "      <th>Minimum</th>\n",
              "      <th>Maximum</th>\n",
              "      <th>Model</th>\n",
              "    </tr>\n",
              "  </thead>\n",
              "  <tbody>\n",
              "    <tr>\n",
              "      <th>AmcCode</th>\n",
              "      <td>1.000000</td>\n",
              "      <td>0.341746</td>\n",
              "      <td>0.446986</td>\n",
              "      <td>0.356060</td>\n",
              "      <td>0.176582</td>\n",
              "      <td>0.097088</td>\n",
              "      <td>-0.126016</td>\n",
              "      <td>-0.188377</td>\n",
              "      <td>0.164932</td>\n",
              "      <td>0.280369</td>\n",
              "      <td>0.300277</td>\n",
              "      <td>0.291312</td>\n",
              "    </tr>\n",
              "    <tr>\n",
              "      <th>AmcName</th>\n",
              "      <td>0.341746</td>\n",
              "      <td>1.000000</td>\n",
              "      <td>0.058058</td>\n",
              "      <td>0.988353</td>\n",
              "      <td>0.085261</td>\n",
              "      <td>0.058070</td>\n",
              "      <td>-0.128334</td>\n",
              "      <td>-0.173704</td>\n",
              "      <td>0.014108</td>\n",
              "      <td>0.197913</td>\n",
              "      <td>0.213234</td>\n",
              "      <td>0.204341</td>\n",
              "    </tr>\n",
              "    <tr>\n",
              "      <th>YardCode</th>\n",
              "      <td>0.446986</td>\n",
              "      <td>0.058058</td>\n",
              "      <td>1.000000</td>\n",
              "      <td>0.073623</td>\n",
              "      <td>0.184551</td>\n",
              "      <td>0.206038</td>\n",
              "      <td>-0.092749</td>\n",
              "      <td>-0.148500</td>\n",
              "      <td>0.115201</td>\n",
              "      <td>0.053916</td>\n",
              "      <td>0.094518</td>\n",
              "      <td>0.081071</td>\n",
              "    </tr>\n",
              "    <tr>\n",
              "      <th>YardName</th>\n",
              "      <td>0.356060</td>\n",
              "      <td>0.988353</td>\n",
              "      <td>0.073623</td>\n",
              "      <td>1.000000</td>\n",
              "      <td>0.091151</td>\n",
              "      <td>0.065849</td>\n",
              "      <td>-0.132696</td>\n",
              "      <td>-0.179371</td>\n",
              "      <td>0.010149</td>\n",
              "      <td>0.186033</td>\n",
              "      <td>0.201632</td>\n",
              "      <td>0.192624</td>\n",
              "    </tr>\n",
              "    <tr>\n",
              "      <th>CommCode</th>\n",
              "      <td>0.176582</td>\n",
              "      <td>0.085261</td>\n",
              "      <td>0.184551</td>\n",
              "      <td>0.091151</td>\n",
              "      <td>1.000000</td>\n",
              "      <td>-0.062718</td>\n",
              "      <td>0.176901</td>\n",
              "      <td>0.079427</td>\n",
              "      <td>0.123499</td>\n",
              "      <td>0.211256</td>\n",
              "      <td>0.278782</td>\n",
              "      <td>0.259174</td>\n",
              "    </tr>\n",
              "    <tr>\n",
              "      <th>CommName</th>\n",
              "      <td>0.097088</td>\n",
              "      <td>0.058070</td>\n",
              "      <td>0.206038</td>\n",
              "      <td>0.065849</td>\n",
              "      <td>-0.062718</td>\n",
              "      <td>1.000000</td>\n",
              "      <td>0.154261</td>\n",
              "      <td>0.096809</td>\n",
              "      <td>0.032830</td>\n",
              "      <td>-0.120409</td>\n",
              "      <td>-0.080034</td>\n",
              "      <td>-0.091702</td>\n",
              "    </tr>\n",
              "    <tr>\n",
              "      <th>VarityCode</th>\n",
              "      <td>-0.126016</td>\n",
              "      <td>-0.128334</td>\n",
              "      <td>-0.092749</td>\n",
              "      <td>-0.132696</td>\n",
              "      <td>0.176901</td>\n",
              "      <td>0.154261</td>\n",
              "      <td>1.000000</td>\n",
              "      <td>0.939885</td>\n",
              "      <td>-0.034640</td>\n",
              "      <td>-0.104847</td>\n",
              "      <td>-0.099391</td>\n",
              "      <td>-0.101340</td>\n",
              "    </tr>\n",
              "    <tr>\n",
              "      <th>VarityName</th>\n",
              "      <td>-0.188377</td>\n",
              "      <td>-0.173704</td>\n",
              "      <td>-0.148500</td>\n",
              "      <td>-0.179371</td>\n",
              "      <td>0.079427</td>\n",
              "      <td>0.096809</td>\n",
              "      <td>0.939885</td>\n",
              "      <td>1.000000</td>\n",
              "      <td>-0.059710</td>\n",
              "      <td>-0.145914</td>\n",
              "      <td>-0.152000</td>\n",
              "      <td>-0.150120</td>\n",
              "    </tr>\n",
              "    <tr>\n",
              "      <th>Arrivals</th>\n",
              "      <td>0.164932</td>\n",
              "      <td>0.014108</td>\n",
              "      <td>0.115201</td>\n",
              "      <td>0.010149</td>\n",
              "      <td>0.123499</td>\n",
              "      <td>0.032830</td>\n",
              "      <td>-0.034640</td>\n",
              "      <td>-0.059710</td>\n",
              "      <td>1.000000</td>\n",
              "      <td>0.257889</td>\n",
              "      <td>0.344759</td>\n",
              "      <td>0.322150</td>\n",
              "    </tr>\n",
              "    <tr>\n",
              "      <th>Minimum</th>\n",
              "      <td>0.280369</td>\n",
              "      <td>0.197913</td>\n",
              "      <td>0.053916</td>\n",
              "      <td>0.186033</td>\n",
              "      <td>0.211256</td>\n",
              "      <td>-0.120409</td>\n",
              "      <td>-0.104847</td>\n",
              "      <td>-0.145914</td>\n",
              "      <td>0.257889</td>\n",
              "      <td>1.000000</td>\n",
              "      <td>0.919050</td>\n",
              "      <td>0.929747</td>\n",
              "    </tr>\n",
              "    <tr>\n",
              "      <th>Maximum</th>\n",
              "      <td>0.300277</td>\n",
              "      <td>0.213234</td>\n",
              "      <td>0.094518</td>\n",
              "      <td>0.201632</td>\n",
              "      <td>0.278782</td>\n",
              "      <td>-0.080034</td>\n",
              "      <td>-0.099391</td>\n",
              "      <td>-0.152000</td>\n",
              "      <td>0.344759</td>\n",
              "      <td>0.919050</td>\n",
              "      <td>1.000000</td>\n",
              "      <td>0.951479</td>\n",
              "    </tr>\n",
              "    <tr>\n",
              "      <th>Model</th>\n",
              "      <td>0.291312</td>\n",
              "      <td>0.204341</td>\n",
              "      <td>0.081071</td>\n",
              "      <td>0.192624</td>\n",
              "      <td>0.259174</td>\n",
              "      <td>-0.091702</td>\n",
              "      <td>-0.101340</td>\n",
              "      <td>-0.150120</td>\n",
              "      <td>0.322150</td>\n",
              "      <td>0.929747</td>\n",
              "      <td>0.951479</td>\n",
              "      <td>1.000000</td>\n",
              "    </tr>\n",
              "  </tbody>\n",
              "</table>\n",
              "</div>"
            ],
            "text/plain": [
              "             AmcCode   AmcName  YardCode  ...   Minimum   Maximum     Model\n",
              "AmcCode     1.000000  0.341746  0.446986  ...  0.280369  0.300277  0.291312\n",
              "AmcName     0.341746  1.000000  0.058058  ...  0.197913  0.213234  0.204341\n",
              "YardCode    0.446986  0.058058  1.000000  ...  0.053916  0.094518  0.081071\n",
              "YardName    0.356060  0.988353  0.073623  ...  0.186033  0.201632  0.192624\n",
              "CommCode    0.176582  0.085261  0.184551  ...  0.211256  0.278782  0.259174\n",
              "CommName    0.097088  0.058070  0.206038  ... -0.120409 -0.080034 -0.091702\n",
              "VarityCode -0.126016 -0.128334 -0.092749  ... -0.104847 -0.099391 -0.101340\n",
              "VarityName -0.188377 -0.173704 -0.148500  ... -0.145914 -0.152000 -0.150120\n",
              "Arrivals    0.164932  0.014108  0.115201  ...  0.257889  0.344759  0.322150\n",
              "Minimum     0.280369  0.197913  0.053916  ...  1.000000  0.919050  0.929747\n",
              "Maximum     0.300277  0.213234  0.094518  ...  0.919050  1.000000  0.951479\n",
              "Model       0.291312  0.204341  0.081071  ...  0.929747  0.951479  1.000000\n",
              "\n",
              "[12 rows x 12 columns]"
            ]
          },
          "metadata": {},
          "execution_count": 53
        }
      ],
      "metadata": {
        "colab": {
          "base_uri": "https://localhost:8080/",
          "height": 441
        },
        "id": "T6pEreFnB3ed",
        "outputId": "0fac27a9-4e1f-49bc-a798-6d5113dce634"
      }
    },
    {
      "cell_type": "code",
      "execution_count": null,
      "source": [
        "features = app_df.drop(['CommName','Arrivals','YardName'], axis=1)\n",
        "label = app_df['Model']"
      ],
      "outputs": [],
      "metadata": {
        "id": "FNnSk1y8C-QA"
      }
    },
    {
      "cell_type": "markdown",
      "source": [
        "# Machine Learning Model\n",
        "\n",
        "> Indented block\n",
        "\n",
        "\n"
      ],
      "metadata": {
        "id": "lMWnayvYg09p"
      }
    },
    {
      "cell_type": "code",
      "execution_count": null,
      "source": [
        "from sklearn.model_selection import train_test_split\n",
        "x_train,x_test,y_train,y_test = train_test_split(features,\n",
        "                                                    label,\n",
        "                                                    test_size=0.2,\n",
        "                                                    random_state = 10)"
      ],
      "outputs": [],
      "metadata": {
        "id": "pAJjT4Iwn4Cx"
      }
    },
    {
      "cell_type": "code",
      "execution_count": null,
      "source": [
        "#app_df.drop('DDate', axis=1, inplace=True)\n",
        "#print(x_train, x_test, y_train, y_test )"
      ],
      "outputs": [],
      "metadata": {
        "id": "4tO4p4nPmJUU"
      }
    },
    {
      "cell_type": "code",
      "execution_count": null,
      "source": [
        "from xgboost import XGBRegressor\n",
        "\n",
        "XGB_model = XGBRegressor()\n",
        "\n",
        "XGB_model.fit(x_train, y_train)\n",
        "\n",
        "print('XGBoost Model Accuracy : ', XGB_model.score(x_test, y_test)*100, '%')\n"
      ],
      "outputs": [
        {
          "output_type": "stream",
          "name": "stdout",
          "text": [
            "[16:30:47] WARNING: /workspace/src/objective/regression_obj.cu:152: reg:linear is now deprecated in favor of reg:squarederror.\n",
            "XGBoost Model Accuracy :  99.99601298436421 %\n"
          ]
        }
      ],
      "metadata": {
        "colab": {
          "base_uri": "https://localhost:8080/"
        },
        "id": "VEQ6B0YKh5sx",
        "outputId": "e3795675-fa88-4f98-b662-3c75ae652ef6"
      }
    }
  ]
}